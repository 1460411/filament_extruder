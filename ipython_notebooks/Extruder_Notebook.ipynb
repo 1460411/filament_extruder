{
 "metadata": {
  "name": "",
  "signature": "sha256:6b150faec3511e4ba84d8df3b3d477d100c0bf5a595dc2c276d2a83b6878d96f"
 },
 "nbformat": 3,
 "nbformat_minor": 0,
 "worksheets": [
  {
   "cells": [
    {
     "cell_type": "heading",
     "level": 1,
     "metadata": {},
     "source": [
      "Extruder Notebook"
     ]
    },
    {
     "cell_type": "code",
     "collapsed": false,
     "input": [
      "# Load modules\n",
      "import numpy as np\n",
      "import matplotlib.pyplot as plt"
     ],
     "language": "python",
     "metadata": {},
     "outputs": [],
     "prompt_number": 20
    },
    {
     "cell_type": "heading",
     "level": 1,
     "metadata": {},
     "source": [
      "Design objectives"
     ]
    },
    {
     "cell_type": "markdown",
     "metadata": {},
     "source": [
      "The minimum design objectives specified for the project are:\n",
      "\n",
      "* Design of the screw following the STD Screw Geometry\n",
      "    * $L/D$ ratio in the range from 20 to 30\n",
      "* A minimum throughput of 0.25 kg/h (1 kg every 4 hours)\n",
      "* The filament diameter must comply with $\\pm$ 0.1 mm tolerance from the defined nominal diameter\n",
      "* Initial design should be able to extruder ABS with a nominal diameter of 3.00 mm\n",
      "\n",
      "Other qualitative aspects considered are\n",
      "\n",
      "* When possible, the project must make use of Open Source tools, products and methods\n",
      "* The components are off-the-shelf.\n",
      "* Machining operations are reduced to drilling."
     ]
    },
    {
     "cell_type": "heading",
     "level": 1,
     "metadata": {},
     "source": [
      "Extruder basic dimensions"
     ]
    },
    {
     "cell_type": "markdown",
     "metadata": {},
     "source": [
      "Basic variables for defining the extruder dimensions are\n",
      "\n",
      "* $D$, `D`, screw diameter (the diameter of the screw including the flights).\n",
      "* $L$, `L`, screw length (the flighted length of the screw).\n",
      "* $L/D$ ratio, `LD`, the ratio of length over diameter of the extruder screw.\n",
      "\n",
      "![Extruder Dimensions](http://i.imgur.com/7jeKHJI.png)\n",
      "\n",
      "Given the values of $D$ and the $L/D$ ratio, the lenght $L$ of the extruder can be calculated:"
     ]
    },
    {
     "cell_type": "code",
     "collapsed": false,
     "input": [
      "# Screw diameter [mm]\n",
      "D = 16 #mm\n",
      "\n",
      "# L/D ratio [Dimensionless]\n",
      "LD = 20.0 #mm\n",
      "\n",
      "# Calculate and print screw length [mm]\n",
      "L = D*LD #mm\n",
      "print 'Screw length: L = %d mm' % (L)\n",
      "\n",
      "# Convert from mm to m\n",
      "L = L/1000.0 #m\n",
      "D = D/1000.0 #m"
     ],
     "language": "python",
     "metadata": {},
     "outputs": [
      {
       "output_type": "stream",
       "stream": "stdout",
       "text": [
        "Screw length: L = 320 mm\n"
       ]
      }
     ],
     "prompt_number": 21
    },
    {
     "cell_type": "heading",
     "level": 1,
     "metadata": {},
     "source": [
      "Material characteristics"
     ]
    },
    {
     "cell_type": "markdown",
     "metadata": {},
     "source": [
      "The considered material properties are\n",
      "\n",
      "* $\\mu$, `mu`, dynamic stress viscosity\n",
      "* Material density, `density`, density in molten state\n",
      "\n",
      "Hipothesis:\n",
      "\n",
      "* newtonian fluid\n",
      "* viscosity is independent of temperature\n",
      "\n",
      "Values of the considered variables are:"
     ]
    },
    {
     "cell_type": "code",
     "collapsed": false,
     "input": [
      "# Material name\n",
      "\n",
      "materialName = \"ABS\"\n",
      "\n",
      "# Material dynamic stress viscosity\n",
      "mu = 1.0 #Pa\u00b7s , usamos 1000 centipoise to Pa s = 1Pa s, sacado de http://forums.reprap.org/read.php?1,193180,194250(a falta de un dato mejor)\n",
      "\n",
      "# Molten material density [g/cm3]\n",
      "density = 1.05 #g/cm3 (ABS)\n",
      "\n",
      "# Convert from g/cm3 to kg/m3\n",
      "density = density*1000.0 #kg/m3"
     ],
     "language": "python",
     "metadata": {},
     "outputs": [],
     "prompt_number": 22
    },
    {
     "cell_type": "heading",
     "level": 1,
     "metadata": {},
     "source": [
      "Dimensional Analysis"
     ]
    },
    {
     "cell_type": "heading",
     "level": 2,
     "metadata": {},
     "source": [
      "Extruder Dimensional Analysis"
     ]
    },
    {
     "cell_type": "markdown",
     "metadata": {},
     "source": [
      "Detailed in other document, result is\n",
      "\n",
      "$$\\dot{V} \\propto N D^3$$"
     ]
    },
    {
     "cell_type": "heading",
     "level": 1,
     "metadata": {},
     "source": [
      "Extruder drive dimensioning"
     ]
    },
    {
     "cell_type": "heading",
     "level": 2,
     "metadata": {},
     "source": [
      "Extruder throughput from the diameter correlation"
     ]
    },
    {
     "cell_type": "markdown",
     "metadata": {},
     "source": [
      "From @rauwendaal_understanding_1998, the correlation for obtaining approximate throughput of an extruder (running at 50 rpm) based on its diameter is:\n",
      "\n",
      "$$\\dot{m}_{[kg/h]} = 0.277 \\cdot D_{[cm]}^3$$\n",
      "\n",
      "where\n",
      "\n",
      "* $\\dot{m}$, `throughput`, is the mass flow rate of the extruder, known as throughput\n",
      "* $D$, `diameter`, is the screw diameter\n",
      "\n",
      "Units of this correlation are indicated in subindexes, [kg/h] for the throughput and [cm] for the screw diameter.\n",
      "\n",
      "Conversion of the correlation to mm:\n",
      "\n",
      "$$\\dot{m}_{[kg/h]} = 0.277 \\cdot \\frac{ D_{[mm]} }{10}^3$$\n",
      "$$\\dot{m}_{[kg/h]} = \\frac{0.277}{10^3} \\cdot D_{[mm]}^3$$\n",
      "$$\\dot{m}_{[kg/h]} = 2.77 \\cdot 10^{-4} \\cdot D_{[mm]}^3$$\n"
     ]
    },
    {
     "cell_type": "code",
     "collapsed": false,
     "input": [
      "# Substituting extruder diameter:\n",
      "throughput = 2.77e-4 * (D*1000.0)**3\n",
      "\n",
      "print \"Throughput at 50 rpm : %f kg/h\" % (throughput)"
     ],
     "language": "python",
     "metadata": {},
     "outputs": [
      {
       "output_type": "stream",
       "stream": "stdout",
       "text": [
        "Throughput at 50 rpm : 1.134592 kg/h\n"
       ]
      }
     ],
     "prompt_number": 23
    },
    {
     "cell_type": "code",
     "collapsed": false,
     "input": [
      "# Diameter values in mm\n",
      "D_values = np.linspace(1, 200, 100) #mm\n",
      "\n",
      "throughput_values = 2.77e-4*D_values**3; #kg/h\n",
      "\n",
      "plt.ticklabel_format(style = 'plain', axis = 'both')\n",
      "plt.xscale('linear')\n",
      "plt.yscale('linear')\n",
      "plt.xlabel(r'Screw Diameter, $D$ [mm]')\n",
      "plt.ylabel(r'Throughput, $\\dot{m}$ [kg/h]')\n",
      "plt.title('Extruder throughput at 50 rpm vs Diameter')\n",
      "\n",
      "plt.plot(D_values, throughput_values, 'g-')\n",
      "plt.show()"
     ],
     "language": "python",
     "metadata": {},
     "outputs": [
      {
       "metadata": {},
       "output_type": "display_data",
       "png": "[encoded data removed]",
       "text": [
        "<matplotlib.figure.Figure at 0x10bd2ea90>"
       ]
      }
     ],
     "prompt_number": 24
    },
    {
     "cell_type": "markdown",
     "metadata": {},
     "source": [
      "Scaling the results of the correlation for different  screw speeds\n",
      "\n",
      "$$\\dot{m}_{[kg/h]} = 2.77 \\cdot 10^{-4} \\cdot D_{[mm]}^3 \\frac{N_{[rpm]}}{50}$$\n",
      "\n",
      "$$\\dot{m}_{[kg/h]} = 5.54 \\cdot 10^{-6} \\cdot D_{[mm]}^3 \\cdot N_{[rpm]}$$\n",
      "\n",
      "**Assumption made:** $\\dot{m} \\propto N$, taken from the Extruder Dimensional Analysis, it means there is only drag flow."
     ]
    },
    {
     "cell_type": "code",
     "collapsed": false,
     "input": [
      "# Array of diameter values in mm\n",
      "N_values = np.linspace(1, 60, 60) #rpm\n",
      "\n",
      "throughput_values = 5.54e-6*(D*1000.0)**3*N_values; #kg/h\n",
      "                                                    #D has to be converted back to mm\n",
      "\n",
      "plt.ticklabel_format(style = 'plain', axis = 'both')\n",
      "plt.xscale('linear')\n",
      "plt.yscale('linear')\n",
      "plt.xlabel(r'Screw Speed, $N$ [rpm]')\n",
      "plt.ylabel(r'Throughput, $\\dot{m}$ [kg/h]')\n",
      "plt.title('Extruder throughput vs screw speed')\n",
      "plt.axhline(0.25, xmin=0, xmax=1, alpha=0.4)\n",
      "\n",
      "\n",
      "plt.plot(N_values, throughput_values, 'g-')\n",
      "plt.show()"
     ],
     "language": "python",
     "metadata": {},
     "outputs": [
      {
       "metadata": {},
       "output_type": "display_data",
       "png": "[encoded data removed]",
       "text": [
        "<matplotlib.figure.Figure at 0x10bd3c690>"
       ]
      }
     ],
     "prompt_number": 25
    },
    {
     "cell_type": "code",
     "collapsed": false,
     "input": [
      "# Throughput vs N table\n",
      "\n",
      "print 'Throughput vs N table:'\n",
      "print '--------------------'\n",
      "for i in range(1, 13) :\n",
      "    throughput = 5.54e-6 * (D*1000.0)**3 * i*5 #D is stored in metres and have to be converted back to millimetres\n",
      "    print '%2d RPM: %.2f kg/h \\t %.2f h/kg' % (i*5, throughput, 1/throughput)"
     ],
     "language": "python",
     "metadata": {},
     "outputs": [
      {
       "output_type": "stream",
       "stream": "stdout",
       "text": [
        "Throughput vs N table:\n",
        "--------------------\n",
        " 5 RPM: 0.11 kg/h \t 8.81 h/kg\n",
        "10 RPM: 0.23 kg/h \t 4.41 h/kg\n",
        "15 RPM: 0.34 kg/h \t 2.94 h/kg\n",
        "20 RPM: 0.45 kg/h \t 2.20 h/kg\n",
        "25 RPM: 0.57 kg/h \t 1.76 h/kg\n",
        "30 RPM: 0.68 kg/h \t 1.47 h/kg\n",
        "35 RPM: 0.79 kg/h \t 1.26 h/kg\n",
        "40 RPM: 0.91 kg/h \t 1.10 h/kg\n",
        "45 RPM: 1.02 kg/h \t 0.98 h/kg\n",
        "50 RPM: 1.13 kg/h \t 0.88 h/kg\n",
        "55 RPM: 1.25 kg/h \t 0.80 h/kg\n",
        "60 RPM: 1.36 kg/h \t 0.73 h/kg\n"
       ]
      }
     ],
     "prompt_number": 26
    },
    {
     "cell_type": "markdown",
     "metadata": {},
     "source": [
      "According to the design objectives, screw speed should be above 10-15 RPM to meet throughput requeriments."
     ]
    },
    {
     "cell_type": "heading",
     "level": 2,
     "metadata": {},
     "source": [
      "Scale motor torque from Lyman Extruder"
     ]
    },
    {
     "cell_type": "markdown",
     "metadata": {},
     "source": [
      "We use the most extensively documented filament extruder design, the Lyman Extruder, to scale the results to our extruder.\n",
      "\n",
      "Lyman extruder flighted screw length and motor torque are:\n",
      "\n",
      "* Lyman screw length: 142 mm\n",
      "* Lyman motor torque: 30.02 kgf\u00b7cm\n",
      "\n",
      "We scale the torque to an extruder with length $L$:\n",
      "\n",
      "**Note:** Need proof/citation."
     ]
    },
    {
     "cell_type": "code",
     "collapsed": false,
     "input": [
      "L_Lyman = 142.0 #mm\n",
      "T_Lyman = 30.02 #kgf\u00b7cm\n",
      "throughput_Lyman = 0.2 #kg/h\n",
      "\n",
      "# Scale the results for the extruder\n",
      "T = T_Lyman*((L*1000)/L_Lyman)\n",
      "print 'Scaled Motor Torque: %.2f kgf\u00b7cm' % (T)"
     ],
     "language": "python",
     "metadata": {},
     "outputs": [
      {
       "output_type": "stream",
       "stream": "stdout",
       "text": [
        "Scaled Motor Torque: 67.65 kgf\u00b7cm\n"
       ]
      }
     ],
     "prompt_number": 27
    },
    {
     "cell_type": "heading",
     "level": 2,
     "metadata": {},
     "source": [
      "Drive Parameters"
     ]
    },
    {
     "cell_type": "markdown",
     "metadata": {},
     "source": [
      "From the results obtained from the sections \"Extruder Throughput from the diameter correlation\" and \"Scale motor torque from Lyman Extruder\", the minimum requeriments for the extruder drive are:\n",
      "\n",
      "* More than 15 rpm rotational speed\n",
      "* More than 67.12 kgf\u00b7cm torque\n",
      "\n",
      "We have choosen the following DC motor with integrated gearbox and encoder:\n",
      "\n",
      "![](http://www.phidgets.com/images/3273E_0_Web.jpg)\n",
      "\n",
      "Data: http://www.phidgets.com/products.php?category=38&product_id=3273E_0\n",
      "\n",
      "The paramenters of the drive are:\n",
      "\n",
      "* $N$, `N`, screw rotational speed (taken from motor rated speed)\n",
      "* $T$, `T`, drive torque (taken from motor rated torque)\n",
      "\n",
      "\n",
      "The values that these parameters take are:"
     ]
    },
    {
     "cell_type": "code",
     "collapsed": false,
     "input": [
      "# Screw rotational speed, N [rpm]\n",
      "N = 33.0 #rpm\n",
      "# Drive torque [kgf\u00b7cm]\n",
      "T = 82.6 #kgf\u00b7cm\n",
      "\n",
      "# Convert from kgf\u00b7cm to N\u00b7m\n",
      "T = T*0.098"
     ],
     "language": "python",
     "metadata": {},
     "outputs": [],
     "prompt_number": 28
    },
    {
     "cell_type": "code",
     "collapsed": false,
     "input": [
      "# Throughput using the diameter correlation\n",
      "throughput = 5.54e-6*(D*1000.0)**3*N; #kg/h\n",
      "\n",
      "print \"Throughput (from diameter correlation) : %f kg/h\" % (throughput)"
     ],
     "language": "python",
     "metadata": {},
     "outputs": [
      {
       "output_type": "stream",
       "stream": "stdout",
       "text": [
        "Throughput (from diameter correlation) : 0.748831 kg/h\n"
       ]
      }
     ],
     "prompt_number": 29
    },
    {
     "cell_type": "heading",
     "level": 2,
     "metadata": {},
     "source": [
      "Screw Geometry"
     ]
    },
    {
     "cell_type": "markdown",
     "metadata": {},
     "source": [
      "![](http://www.slscrewbarrel.com/UploadFile/201063191736307.jpg)\n",
      "\n",
      "Dimensions considered for the model:\n",
      "\n",
      "* $H$, `H`, channel depth\n",
      "* $W$, `W`, perpendicular channel width\n",
      "* $\\theta$, `theta`, helix angle\n",
      "\n",
      "**Note:** Throughput value is very sensitive to changes in $H$, $W$, and $\\theta$. Since the wood auger doesn't have a geometry completely equivalent to the screw model shown above, measured dimensions are only approximate and the throughput and any other derived value aren't necessarly accurate when compared with the real system."
     ]
    },
    {
     "cell_type": "code",
     "collapsed": false,
     "input": [
      "# Channel depth [mm]\n",
      "H = 5.0 #mm\n",
      "\n",
      "# Perpendicular channel width [mm]\n",
      "W = 15.0 #mm\n",
      "\n",
      "# Helix angle in degrees\n",
      "theta = 30.0 #degrees\n",
      "\n",
      "# Convert to meters\n",
      "H = H/1000.0 #m\n",
      "W = W/1000.0 #m\n",
      "\n",
      "# Convert to radians\n",
      "theta = radians(theta) #radians"
     ],
     "language": "python",
     "metadata": {},
     "outputs": [],
     "prompt_number": 30
    },
    {
     "cell_type": "heading",
     "level": 1,
     "metadata": {},
     "source": [
      "Newtonian flat plate model"
     ]
    },
    {
     "cell_type": "markdown",
     "metadata": {},
     "source": [
      "Explained in other document. From @rauwendaal_polymer_1994, also in @dantzig_newtonian_2001."
     ]
    },
    {
     "cell_type": "heading",
     "level": 2,
     "metadata": {},
     "source": [
      "Extruder and Die Characteristic Model"
     ]
    },
    {
     "cell_type": "markdown",
     "metadata": {},
     "source": [
      "From @manias_matse447_2012, @dantzig_newtonian_2001. It also uses the newtonian flat plate model.\n",
      "\n",
      "![Extruder simplified model](http://i.imgur.com/SYclpDb.png)\n"
     ]
    },
    {
     "cell_type": "heading",
     "level": 3,
     "metadata": {},
     "source": [
      "Die model"
     ]
    },
    {
     "cell_type": "markdown",
     "metadata": {},
     "source": [
      "![](http://www.dolomite-microfluidics.com/images/calculator/circular.jpg)\n",
      "\n",
      "We consider a circular die channel, defined by the variables:\n",
      "\n",
      "* $D_{die}$, `D_die` the diameter of the die channel\n",
      "* $L_{die}$, `L_die`, the length of the die channel\n",
      "\n",
      "**Note:** We don't take into account the pressure drop that occurs between the end of the screw and the start of the die channel\n",
      "\n",
      "The values of these variables are:"
     ]
    },
    {
     "cell_type": "code",
     "collapsed": false,
     "input": [
      "# D_die, the diameter of the die channel [mm]\n",
      "D_die = 3.00 #mm\n",
      "\n",
      "# L_die, the length of the die channel [mm]\n",
      "L_die = 10.0 #mm\n",
      "\n",
      "\n",
      "# Convert from mm to m\n",
      "D_die = D_die/1000.0 #m\n",
      "L_die = L_die/1000.0 #m"
     ],
     "language": "python",
     "metadata": {},
     "outputs": [],
     "prompt_number": 31
    },
    {
     "cell_type": "heading",
     "level": 3,
     "metadata": {},
     "source": [
      "Extruder and Die Characteristics"
     ]
    },
    {
     "cell_type": "code",
     "collapsed": false,
     "input": [
      "# Drag flow constant\n",
      "alpha = (pi/2.0)*W*H*D*cos(theta)\n",
      "\n",
      "print \"Drag flow constant : alpha = %.12f\" % (alpha)\n",
      "\n",
      "# Pressure flow constant\n",
      "beta = (W*H**3.0)/(12.0*L)\n",
      "\n",
      "print \"Pressure flow constant : beta = %.12f\" % (beta)\n",
      "\n",
      "print \"Volumentric Flow at rated RPM = %f kg/h\" % (alpha*N*density*60.0)\n",
      "\n",
      "\n",
      "gamma = 2*(pi*(D_die/2.0)**4)/(8.0*L_die*mu)\n",
      "\n",
      "print \"Die characteristic constant : gamma = %.12f\" % (gamma)\n"
     ],
     "language": "python",
     "metadata": {},
     "outputs": [
      {
       "output_type": "stream",
       "stream": "stdout",
       "text": [
        "Drag flow constant : alpha = 0.000001632419\n",
        "Pressure flow constant : beta = 0.000000000488\n",
        "Volumentric Flow at rated RPM = 3.393800 kg/h\n",
        "Die characteristic constant : gamma = 0.000000000398\n"
       ]
      }
     ],
     "prompt_number": 32
    },
    {
     "cell_type": "code",
     "collapsed": false,
     "input": [
      "delta_P = np.linspace(0, 10000000.0, 1000000.0)\n",
      "\n",
      "Q_extruder = density*(alpha*N*60.0 - (beta/mu)*delta_P)\n",
      "Q_die = density*(gamma*delta_P)*3600.0\n",
      "\n",
      "plt.axis([np.min(delta_P), np.max(delta_P), 0, np.max(Q_extruder)*1.1])\n",
      "plt.ticklabel_format(style = 'plain', axis = 'both')\n",
      "plt.xscale('linear')\n",
      "plt.yscale('linear')\n",
      "plt.xlabel('Delta P [Pa]')\n",
      "plt.ylabel('Q [kg/h]')\n",
      "plt.title('Die and Extruder Characteristics')\n",
      "\n",
      "plt.plot(delta_P, Q_extruder, 'g-', Q_die, 'b-')\n",
      "plt.show()"
     ],
     "language": "python",
     "metadata": {},
     "outputs": [
      {
       "metadata": {},
       "output_type": "display_data",
       "png": "[encoded data removed]",
       "text": [
        "<matplotlib.figure.Figure at 0x10b486410>"
       ]
      }
     ],
     "prompt_number": 33
    },
    {
     "cell_type": "code",
     "collapsed": false,
     "input": [
      "Q_extruder_c = np.poly1d([-density*(beta/mu), density*alpha*N*60.0])\n",
      "Q_die_c = np.poly1d([ density*gamma*3600, 0])\n",
      "\n",
      "difference = Q_extruder_c - Q_die_c\n",
      "\n",
      "print \"Extruder characteristic: \"\n",
      "print Q_extruder_c\n",
      "print \"Die characteristic: \"\n",
      "print Q_die_c\n",
      "\n",
      "operating_pressure = difference.r[0]\n",
      "operating_throughput = density*( alpha*N*60.0 - (beta/mu)*operating_pressure )\n",
      "\n",
      "print \"Operating delta_P = %f Pa = %f MPa\" % (operating_pressure, operating_pressure/1000000.0)\n",
      "print \"Operating throughput = %f kg/h\" % (operating_throughput)\n",
      "\n",
      "print \"Operating throughput (calculated from Extruder Characteristic) = %f kg/h\" % (density*( alpha*N*60.0 - (beta/mu)*operating_pressure ))\n",
      "print \"Operating throughput (calculated from Die Characteristic) = %f kg/h\" % (density*(gamma/mu)*operating_pressure*3600.0)"
     ],
     "language": "python",
     "metadata": {},
     "outputs": [
      {
       "output_type": "stream",
       "stream": "stdout",
       "text": [
        "Extruder characteristic: \n",
        " \n",
        "-5.127e-07 x + 3.394\n",
        "Die characteristic: \n",
        " \n",
        "0.001503 x\n",
        "Operating delta_P = 2257.311029 Pa = 0.002257 MPa\n",
        "Operating throughput = 3.392643 kg/h\n",
        "Operating throughput (calculated from Extruder Characteristic) = 3.392643 kg/h\n",
        "Operating throughput (calculated from Die Characteristic) = 3.392643 kg/h\n"
       ]
      }
     ],
     "prompt_number": 34
    },
    {
     "cell_type": "code",
     "collapsed": false,
     "input": [
      "# Iterative method for calculating extruder throughput, de momento o esta mal o esta bien y diverge\n",
      "\n",
      "Q_extruder = 0\n",
      "Q_die = 0\n",
      "\n",
      "\n",
      "delta_P = 0\n",
      "new_Q_extruder = alpha*N*60.0\n",
      "print \"0. new_Q_extruder: %f\" % (new_Q_extruder )\n",
      "\n",
      "for i in range(1, 10) :\n",
      "    previous_Q_extruder = new_Q_extruder\n",
      "    delta_P = abs( (previous_Q_extruder*mu)/gamma )\n",
      "    print \"%i. delta_p: %f\" % (i, delta_P )\n",
      "    new_Q_extruder = abs( alpha*N*60.0 - (beta/mu)*delta_P )\n",
      "    print \"%i. new_Q_extruder: %f\" % (i, new_Q_extruder )"
     ],
     "language": "python",
     "metadata": {},
     "outputs": [
      {
       "output_type": "stream",
       "stream": "stdout",
       "text": [
        "0. new_Q_extruder: 0.003232\n",
        "1. delta_p: 8129091.790190\n",
        "1. new_Q_extruder: 0.000737\n",
        "2. delta_p: 1853818.250369\n",
        "2. new_Q_extruder: 0.002327\n",
        "3. delta_p: 5852515.107009\n",
        "3. new_Q_extruder: 0.000375\n",
        "4. delta_p: 941925.827223\n",
        "4. new_Q_extruder: 0.002772\n",
        "5. delta_p: 6972362.226698\n",
        "5. new_Q_extruder: 0.000172\n",
        "6. delta_p: 433299.516957\n",
        "6. new_Q_extruder: 0.003021\n",
        "7. delta_p: 7596979.444796\n",
        "7. new_Q_extruder: 0.000477\n",
        "8. delta_p: 1200359.067887\n",
        "8. new_Q_extruder: 0.002646\n",
        "9. delta_p: 6654993.957324\n",
        "9. new_Q_extruder: 0.000017\n"
       ]
      }
     ],
     "prompt_number": 35
    },
    {
     "cell_type": "heading",
     "level": 2,
     "metadata": {},
     "source": [
      "Sensitivity Analysis. Filament Quality"
     ]
    },
    {
     "cell_type": "code",
     "collapsed": false,
     "input": [
      "# A 1% increment in pressure causes a change in throughput\n",
      "\n",
      "delta_throughput = ( density*(alpha*N*60.0 - (beta/mu)*(operating_pressure*1.01)) ) - operating_throughput\n",
      "\n",
      "print \"A 1 percent increment in pressure causes a change of %f kg/h (%f percent) in throughput\" % (delta_throughput, (delta_throughput/operating_throughput)*100)\n",
      "\n",
      "# Translated to diameter\n",
      "\n",
      "delta_D = delta_throughput * ((pi*D_die)/(4*operating_throughput))*(4/(pi**2))\n",
      "print \"A 1 percent increment in pressure causes a change of %.6f mm in filament diameter\" % (delta_D*1000.0)\n",
      "\n",
      "print \"Maximum allowed change to meet 0.1mm tolerance (0.05mm on each side): %f percent\" % (0.05/(delta_D*1000.0))\n",
      "\n",
      "# A 1% increment in screw speed causes a change in throughput\n",
      "\n",
      "delta_throughput = ( density*( alpha*(N*1.01)*60.0 - (beta/mu)*operating_pressure ) ) - operating_throughput\n",
      "\n",
      "print \"A 1 percent increment in screw speed causes a change of %f kg/h (%f percent) in throughput\" % (delta_throughput, (delta_throughput/operating_throughput)*100)\n",
      "\n",
      "# Translated to diameter\n",
      "delta_D = delta_throughput * ((pi*D_die)/(4*operating_throughput))*(4/(pi**2))\n",
      "print \"A 1 percent increment in screw speed causes a change of %.6f mm in filament diameter\" % (delta_D*1000.0)\n",
      "\n",
      "print \"Maximum allowed change to meet 0.1mm tolerance (0.05mm on each side) : %f percent\" % (0.05/(delta_D*1000.0))"
     ],
     "language": "python",
     "metadata": {},
     "outputs": [
      {
       "output_type": "stream",
       "stream": "stdout",
       "text": [
        "A 1 percent increment in pressure causes a change of -0.000012 kg/h (-0.000341 percent) in throughput\n",
        "A 1 percent increment in pressure causes a change of -0.000003 mm in filament diameter\n",
        "Maximum allowed change to meet 0.1mm tolerance (0.05mm on each side): -15349.208764 percent\n",
        "A 1 percent increment in screw speed causes a change of 0.033938 kg/h (1.000341 percent) in throughput\n",
        "A 1 percent increment in screw speed causes a change of 0.009553 mm in filament diameter\n",
        "Maximum allowed change to meet 0.1mm tolerance (0.05mm on each side) : 5.234202 percent\n"
       ]
      }
     ],
     "prompt_number": 36
    },
    {
     "cell_type": "heading",
     "level": 2,
     "metadata": {},
     "source": [
      "Final extruder design"
     ]
    },
    {
     "cell_type": "code",
     "collapsed": false,
     "input": [
      "print \"-----------------------\"\n",
      "print \"Basic dimensions:\"\n",
      "print \"-----------------------\"\n",
      "print 'D = %f mm' % (D*1000.0)\n",
      "print 'L/D ratio = %f' % (LD)\n",
      "print 'L = %f mm' % (L*1000.0)\n",
      "print \"-----------------------\"\n",
      "print \"Material:\"\n",
      "print \"-----------------------\"\n",
      "print materialName\n",
      "print 'viscosity = %f Pa\u00b7s' % (mu)\n",
      "print 'density = %f g/cm3' % (density/1000.0)\n",
      "print \"-----------------------\"\n",
      "print \"Drive parameters:\"\n",
      "print \"-----------------------\"\n",
      "print 'N = %f rpm' % (N)\n",
      "print 'T = %f N\u00b7m' % (T)\n",
      "print \"-----------------------\"\n",
      "print \"Diameter correlation:\"\n",
      "print \"-----------------------\"\n",
      "print 'thoughput = %f kg/h' % (5.54e-6*(D*1000.0)**3*N)\n",
      "print \"-----------------------\"\n",
      "print \"Other screw parameters:\"\n",
      "print \"-----------------------\"\n",
      "print 'H = %f mm' % (H*1000.0)\n",
      "print 'W = %f mm' % (W*1000.0)\n",
      "print 'theta = %f degrees' % (degrees(theta))\n",
      "print \"-----------------------\"\n",
      "print \"Die parameters:\"\n",
      "print \"-----------------------\"\n",
      "print 'D_die = %f mm' % (D_die*1000.0)\n",
      "print 'L_die = %f mm' % (L_die*1000.0)\n",
      "print \"-----------------------\"\n",
      "print \"Extruder and Die Characteristic Model:\"\n",
      "print \"-----------------------\"\n",
      "delta_P = np.linspace(0, 10000000.0, 1000000.0)\n",
      "\n",
      "Q_extruder = density*(alpha*N*60.0 - (beta/mu)*delta_P)\n",
      "Q_die = density*(gamma*delta_P)*3600.0\n",
      "\n",
      "plt.axis([np.min(delta_P), np.max(delta_P), 0, np.max(Q_extruder)*1.1])\n",
      "plt.ticklabel_format(style = 'plain', axis = 'both')\n",
      "plt.xscale('linear')\n",
      "plt.yscale('linear')\n",
      "plt.xlabel('Delta P [Pa]')\n",
      "plt.ylabel('Q [kg/h]')\n",
      "plt.title('Die and Extruder Characteristics')\n",
      "\n",
      "plt.plot(delta_P, Q_extruder, 'g-', Q_die, 'b-')\n",
      "plt.show()\n",
      "\n",
      "Q_extruder_c = np.poly1d([-density*(beta/mu), density*alpha*N*60.0])\n",
      "Q_die_c = np.poly1d([ density*gamma*3600, 0])\n",
      "\n",
      "difference = Q_extruder_c - Q_die_c\n",
      "\n",
      "print \"Extruder characteristic: \"\n",
      "print Q_extruder_c\n",
      "print \"Die characteristic: \"\n",
      "print Q_die_c\n",
      "\n",
      "operating_pressure = difference.r[0]\n",
      "operating_throughput = density*( alpha*N*60.0 - (beta/mu)*operating_pressure )\n",
      "\n",
      "print \"Operating delta_P = %f Pa = %f MPa\" % (operating_pressure, operating_pressure/1000000.0)\n",
      "print \"Operating throughput = %f kg/h\" % (operating_throughput)\n",
      "\n",
      "print \"-----------------------\"\n",
      "print \"Filament Quality:\"\n",
      "print \"-----------------------\"\n",
      "# A 1% increment in pressure causes a change in throughput\n",
      "\n",
      "delta_throughput = ( density*(alpha*N*60.0 - (beta/mu)*(operating_pressure*1.01)) ) - operating_throughput\n",
      "\n",
      "print \"A 1 percent increment in pressure causes a change of %f kg/h (%f percent) in throughput\" % (delta_throughput, (delta_throughput/operating_throughput)*100)\n",
      "\n",
      "# Translated to diameter\n",
      "\n",
      "delta_D = delta_throughput * ((pi*D_die)/(4*operating_throughput))*(4/(pi**2))\n",
      "print \"A 1 percent increment in pressure causes a change of %.6f mm in filament diameter\" % (delta_D*1000.0)\n",
      "\n",
      "print \"Maximum allowed change to meet 0.1mm tolerance (0.05mm on each side): %f percent\" % (0.05/(delta_D*1000.0))\n",
      "\n",
      "# A 1% increment in screw speed causes a change in throughput\n",
      "\n",
      "delta_throughput = ( density*( alpha*(N*1.01)*60.0 - (beta/mu)*operating_pressure ) ) - operating_throughput\n",
      "\n",
      "print \"A 1 percent increment in screw speed causes a change of %f kg/h (%f percent) in throughput\" % (delta_throughput, (delta_throughput/operating_throughput)*100)\n",
      "\n",
      "# Translated to diameter\n",
      "delta_D = delta_throughput * ((pi*D_die)/(4*operating_throughput))*(4/(pi**2))\n",
      "print \"A 1 percent increment in screw speed causes a change of %.6f mm in filament diameter\" % (delta_D*1000.0)\n",
      "\n",
      "print \"Maximum allowed change to meet 0.1mm tolerance (0.05mm on each side) : %f percent\" % (0.05/(delta_D*1000.0))"
     ],
     "language": "python",
     "metadata": {},
     "outputs": [
      {
       "output_type": "stream",
       "stream": "stdout",
       "text": [
        "-----------------------\n",
        "Basic dimensions:\n",
        "-----------------------\n",
        "D = 16.000000 mm\n",
        "L/D ratio = 20.000000\n",
        "L = 320.000000 mm\n",
        "-----------------------\n",
        "Material:\n",
        "-----------------------\n",
        "ABS\n",
        "viscosity = 1.000000 Pa\u00b7s\n",
        "density = 1.050000 g/cm3\n",
        "-----------------------\n",
        "Drive parameters:\n",
        "-----------------------\n",
        "N = 33.000000 rpm\n",
        "T = 8.094800 N\u00b7m\n",
        "-----------------------\n",
        "Diameter correlation:\n",
        "-----------------------\n",
        "thoughput = 0.748831 kg/h\n",
        "-----------------------\n",
        "Other screw parameters:\n",
        "-----------------------\n",
        "H = 5.000000 mm\n",
        "W = 15.000000 mm\n",
        "theta = 30.000000 degrees\n",
        "-----------------------\n",
        "Die parameters:\n",
        "-----------------------\n",
        "D_die = 3.000000 mm\n",
        "L_die = 10.000000 mm\n",
        "-----------------------\n",
        "Extruder and Die Characteristic Model:\n",
        "-----------------------\n"
       ]
      },
      {
       "metadata": {},
       "output_type": "display_data",
       "png": "[encoded data removed]",
       "text": [
        "<matplotlib.figure.Figure at 0x10b458e10>"
       ]
      },
      {
       "output_type": "stream",
       "stream": "stdout",
       "text": [
        "Extruder characteristic: \n",
        " \n",
        "-5.127e-07 x + 3.394\n",
        "Die characteristic: \n",
        " \n",
        "0.001503 x\n",
        "Operating delta_P = 2257.311029 Pa = 0.002257 MPa\n",
        "Operating throughput = 3.392643 kg/h\n",
        "-----------------------\n",
        "Filament Quality:\n",
        "-----------------------\n",
        "A 1 percent increment in pressure causes a change of -0.000012 kg/h (-0.000341 percent) in throughput\n",
        "A 1 percent increment in pressure causes a change of -0.000003 mm in filament diameter\n",
        "Maximum allowed change to meet 0.1mm tolerance (0.05mm on each side): -15349.208764 percent\n",
        "A 1 percent increment in screw speed causes a change of 0.033938 kg/h (1.000341 percent) in throughput\n",
        "A 1 percent increment in screw speed causes a change of 0.009553 mm in filament diameter\n",
        "Maximum allowed change to meet 0.1mm tolerance (0.05mm on each side) : 5.234202 percent\n"
       ]
      }
     ],
     "prompt_number": 37
    },
    {
     "cell_type": "heading",
     "level": 1,
     "metadata": {},
     "source": [
      "Conclusions"
     ]
    },
    {
     "cell_type": "markdown",
     "metadata": {},
     "source": [
      "* According to the models studied, minimum requeriments can be achieved with the chosen design\n",
      "* Selected motor is oversized in terms of torque and speed and can achieve better results than the minimum required.\n",
      "* In applying the Extruder and Die Characteristic model a lot of simplifiying assumptions have been made. This will affect greatly the accuracy of the results. Thus, the results obtained from this simple model cannot be taken exactly, but instead they must give us some idea about the expected values of the variables in the real system and about the effect of the different variables in the extruder throughput and filament quality.\n",
      "    * Real screw geometry has been simplified and dimensions considered are approximate, with great effect in throughput results.\n",
      "    * Selected lenght has been total lenght, while the metering length is shorter.\n",
      "    * All the hypothesis from the flat plate model:\n",
      "        * Newtonian fluid.\n",
      "        * ..\n",
      "    * Effects that are not considered in this model can affect the results:\n",
      "        * What happens in section others than metering is not considered: solid conveying and plasticating. Some effects that may affect the results are pressure buildup in previous sections, discontinuities in material feeding and/or mass flow rate from previous sections, etc.\n",
      "        * Leakage flow\n",
      "        * Pressure drop in the die, before the channel die.\n",
      "        * maybe others...\n",
      "* A more realistic result may be the one obtained from the empirical correlation ($\\dot{m}$ = 0.75 kg/h)\n",
      "* The combination of a relatively low-thoughput extruder with a low-resistance die has lead to a low-diehead pressure extrusion operation, dominated by drag flow. In fact, according to the Extruder and Die Model the extruder operates practically in the open discharge point. Thus, the throughput has very low-sensitivity to pressure (a variable that we cannot directly control) and is very dependent of screw speed. Since the sensibility of the thoughput to the screw speed is so important, a tight (closed loop) control of drive speed must be implemented to assure filament quality.\n",
      "* Other studied DIY filament extruders use low L/D ratios, while the designed extruder uses a standard L/D ratio of 20. This ratio was incremented in order to reduce pressure-sensibility of throughput and to allow for better mixing and plasticating of the material (for example, with the intention to use dies in future experiments). In light of the simulation results, the length has a very low effect in pressure sensibility (since, as commented before, the quality is restrained by the screw speed and not by diehead pressure) and may be reduced in future designs in order to have a mor compact extruder."
     ]
    }
   ],
   "metadata": {}
  }
 ]
}