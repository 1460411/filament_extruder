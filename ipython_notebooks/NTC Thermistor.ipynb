{
 "metadata": {
  "name": "",
  "signature": "sha256:a450c051f89a3a185072b5d4270df003e0cacb01c10bbdfc795ccb413afaa0d1"
 },
 "nbformat": 3,
 "nbformat_minor": 0,
 "worksheets": [
  {
   "cells": [
    {
     "cell_type": "heading",
     "level": 1,
     "metadata": {},
     "source": [
      "NTC Thermistor"
     ]
    },
    {
     "cell_type": "markdown",
     "metadata": {},
     "source": [
      "Calculated for EPCOS 100K NTC Thermistor (B57560G1104F)\n",
      "\n",
      "* hasta 300\u00baC\n",
      "* Error 1%\n",
      "* Precio 2,534\u20ac\n",
      "* Datasheet: http://docs-europe.electrocomponents.com/webdocs/11ed/0900766b811edb9b.pdf\n",
      "* URL: http://es.rs-online.com/web/p/termistores/7691934/\n",
      "\n",
      "\n",
      "$$R = R_0 e^{\\beta (\\frac{1}{T}-\\frac{1}{T_0}) }$$"
     ]
    },
    {
     "cell_type": "code",
     "collapsed": false,
     "input": [
      "import numpy as np\n",
      "import matplotlib.pyplot as plt\n",
      "\n",
      "R_0 = 100000.0\n",
      "T_0 = 298.0\n",
      "Beta = 4092.0 # He usado B 0/100 No s\u00e9 en que se diferencian entre ellas\n",
      "\n",
      "T = np.linspace(273.0, 573.0, 300.0)\n",
      "R = R_0 * np.exp( Beta*((1/T) - (1/T_0)) )\n",
      "\n",
      "plt.axis([np.min(T), np.max(T), np.min(R), np.max(R)])\n",
      "plt.ticklabel_format(style = 'plain', axis = 'both')\n",
      "plt.xscale('linear')\n",
      "plt.yscale('linear')\n",
      "plt.xlabel('Temperature [K]')\n",
      "plt.ylabel('Resistance [Ohms]')\n",
      "plt.title('NTC Thermistor Resistance vs Temperature')\n",
      "\n",
      "\n",
      "plt.plot(T,R)\n",
      "plt.show()"
     ],
     "language": "python",
     "metadata": {},
     "outputs": [
      {
       "metadata": {},
       "output_type": "display_data",
       "png": "[encoded data removed]",
       "text": [
        "<matplotlib.figure.Figure at 0x10b8cb350>"
       ]
      }
     ],
     "prompt_number": 2
    },
    {
     "cell_type": "code",
     "collapsed": false,
     "input": [
      "for i in range(0, 12) :\n",
      "    j = 25*i\n",
      "    print 'T[\u00baC] = %3d \\t R = %6.0f \\t R/R_25 = %1.3f' % (T[j]-273, R_NTC[j], R_NTC[j]/R_0)"
     ],
     "language": "python",
     "metadata": {},
     "outputs": [
      {
       "ename": "NameError",
       "evalue": "name 'R_NTC' is not defined",
       "output_type": "pyerr",
       "traceback": [
        "\u001b[0;31m---------------------------------------------------------------------------\u001b[0m\n\u001b[0;31mNameError\u001b[0m                                 Traceback (most recent call last)",
        "\u001b[0;32m<ipython-input-3-35b10642dd22>\u001b[0m in \u001b[0;36m<module>\u001b[0;34m()\u001b[0m\n\u001b[1;32m      1\u001b[0m \u001b[0;32mfor\u001b[0m \u001b[0mi\u001b[0m \u001b[0;32min\u001b[0m \u001b[0mrange\u001b[0m\u001b[0;34m(\u001b[0m\u001b[0;36m0\u001b[0m\u001b[0;34m,\u001b[0m \u001b[0;36m12\u001b[0m\u001b[0;34m)\u001b[0m \u001b[0;34m:\u001b[0m\u001b[0;34m\u001b[0m\u001b[0m\n\u001b[1;32m      2\u001b[0m     \u001b[0mj\u001b[0m \u001b[0;34m=\u001b[0m \u001b[0;36m25\u001b[0m\u001b[0;34m*\u001b[0m\u001b[0mi\u001b[0m\u001b[0;34m\u001b[0m\u001b[0m\n\u001b[0;32m----> 3\u001b[0;31m     \u001b[0;32mprint\u001b[0m \u001b[0;34m'T[\u00baC] = %3d \\t R = %6.0f \\t R/R_25 = %1.3f'\u001b[0m \u001b[0;34m%\u001b[0m \u001b[0;34m(\u001b[0m\u001b[0mT\u001b[0m\u001b[0;34m[\u001b[0m\u001b[0mj\u001b[0m\u001b[0;34m]\u001b[0m\u001b[0;34m-\u001b[0m\u001b[0;36m273\u001b[0m\u001b[0;34m,\u001b[0m \u001b[0mR_NTC\u001b[0m\u001b[0;34m[\u001b[0m\u001b[0mj\u001b[0m\u001b[0;34m]\u001b[0m\u001b[0;34m,\u001b[0m \u001b[0mR_NTC\u001b[0m\u001b[0;34m[\u001b[0m\u001b[0mj\u001b[0m\u001b[0;34m]\u001b[0m\u001b[0;34m/\u001b[0m\u001b[0mR_0\u001b[0m\u001b[0;34m)\u001b[0m\u001b[0;34m\u001b[0m\u001b[0m\n\u001b[0m",
        "\u001b[0;31mNameError\u001b[0m: name 'R_NTC' is not defined"
       ]
      }
     ],
     "prompt_number": 3
    },
    {
     "cell_type": "heading",
     "level": 2,
     "metadata": {},
     "source": [
      "NTC Thermistor Circuit"
     ]
    },
    {
     "cell_type": "markdown",
     "metadata": {},
     "source": [
      "![Diagrama del circuito](http://3.bp.blogspot.com/_QYCIPYPZ-pc/RwwO7BXcO8I/AAAAAAAAAmM/gfkhgjYxX_A/s400/series.png)"
     ]
    },
    {
     "cell_type": "code",
     "collapsed": false,
     "input": [
      "V_ref = 5.0      # Voltaje de entrada del divisor, voltaje de referencia del ADC [V]\n",
      "R = 680.0        # Valor de la resistencia R del divisor de tensi\u00f3n [Ohm]\n",
      "\n",
      "lim_sup = 250    # Temperatura de inter\u00e9s inferior [Celsius]\n",
      "lim_inf = 150    # Temperatura de inter\u00e9s superior [Celsius]\n",
      "\n",
      "T = np.linspace(273, 573, 301)\n",
      "R_NTC = R_0 * np.exp( Beta*((1/T) - (1/T_0)) )\n",
      "\n",
      "V_o = V_ref*(R_NTC/(R+R_NTC))\n",
      "\n",
      "\n",
      "\n",
      "plt.axis([np.min(T), np.max(T), np.min(V_o), np.max(V_o)])\n",
      "plt.ticklabel_format(style = 'plain', axis = 'both')\n",
      "plt.xscale('linear')\n",
      "plt.yscale('linear')\n",
      "plt.xlabel('Temperature [K]')\n",
      "plt.ylabel('Output Voltage [V]')\n",
      "plt.title('Output Voltage vs Temperature')\n",
      "plt.grid(True)\n",
      "plt.axvspan(lim_inf+273, lim_sup+273, ymin=0, ymax=1, alpha=0.2)\n",
      "\n",
      "\n",
      "plt.plot(T,V_o)\n",
      "plt.show()\n",
      "\n"
     ],
     "language": "python",
     "metadata": {},
     "outputs": []
    },
    {
     "cell_type": "heading",
     "level": 2,
     "metadata": {},
     "source": [
      "Comprobar que cumple con el criterio de la resoluci\u00f3n en el rango de inter\u00e9s"
     ]
    },
    {
     "cell_type": "code",
     "collapsed": false,
     "input": [
      "for i in range(lim_inf, lim_sup) :\n",
      "    if V_o[i]-V_o[i+1] > 0.00488 :\n",
      "        s = 'Resolucion OK'\n",
      "    else :\n",
      "        s = '!!!Resolucion NOK'\n",
      "    print 'T[\u00baC] = %d, V_o = %f, R = %f, Delta V_o = %f, %s' % (T[i]-273, V_o[i], R_NTC[i], V_o[i]-V_o[i+1], s)"
     ],
     "language": "python",
     "metadata": {},
     "outputs": []
    },
    {
     "cell_type": "heading",
     "level": 2,
     "metadata": {},
     "source": [
      "Tabla resumen"
     ]
    },
    {
     "cell_type": "code",
     "collapsed": false,
     "input": [
      "for i in range(1, 13) :\n",
      "    j = 25*i\n",
      "    print 'T[\u00baC] = %3d, R = %6d, V_o = %.3f, Delta V_o = %2.3f, I = %.6f' % (T[j]-273, R_NTC[j], V_o[j], V_o[j-1]-V_o[j], 5/(R_NTC[j]+R))"
     ],
     "language": "python",
     "metadata": {},
     "outputs": []
    },
    {
     "cell_type": "code",
     "collapsed": false,
     "input": [],
     "language": "python",
     "metadata": {},
     "outputs": []
    }
   ],
   "metadata": {}
  }
 ]
}